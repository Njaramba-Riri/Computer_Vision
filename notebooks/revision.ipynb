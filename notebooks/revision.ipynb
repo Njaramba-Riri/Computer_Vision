{
 "cells": [
  {
   "cell_type": "code",
   "execution_count": 1,
   "metadata": {},
   "outputs": [
    {
     "name": "stdout",
     "output_type": "stream",
     "text": [
      "OpenCV Version:  4.6.0\n"
     ]
    }
   ],
   "source": [
    "import cv2\n",
    "import numpy as np\n",
    "import matplotlib.pyplot as plt\n",
    "\n",
    "print(f\"OpenCV Version:  {cv2.__version__}\")"
   ]
  },
  {
   "cell_type": "code",
   "execution_count": 6,
   "metadata": {},
   "outputs": [],
   "source": [
    "import cv2\n",
    "\n",
    "# Load the image\n",
    "image = cv2.imread('Images/einstein.jpeg')\n",
    "\n",
    "# Check if the image was successfully loaded\n",
    "if image is not None:\n",
    "    # Display the image\n",
    "    cv2.imshow('Image', image)\n",
    "    cv2.waitKey(0)  # Wait until a key is pressed\n",
    "    cv2.destroyAllWindows()  # Close the window\n",
    "\n",
    "    \n",
    "else:\n",
    "    print('Failed to load the image.')\n"
   ]
  },
  {
   "cell_type": "code",
   "execution_count": 8,
   "metadata": {},
   "outputs": [],
   "source": [
    "# Create a black image\n",
    "image = np.zeros((400, 400, 3), dtype=np.uint8)\n",
    "\n",
    "# Set circle parameters\n",
    "center = (200, 200)\n",
    "radius = 100\n",
    "color = (0, 255, 0)  # Green color\n",
    "thickness = 2\n",
    "\n",
    "# Draw the circle on the image\n",
    "cv2.circle(image, center, radius, color, thickness)\n",
    "\n",
    "# Display the image\n",
    "cv2.imshow('Circle', image)\n",
    "cv2.waitKey(0)\n",
    "cv2.destroyAllWindows()"
   ]
  },
  {
   "cell_type": "code",
   "execution_count": 10,
   "metadata": {},
   "outputs": [],
   "source": [
    "# Read the grayscale image\n",
    "image = cv2.imread('Images/img1.jpeg', cv2.IMREAD_GRAYSCALE)\n",
    "\n",
    "# Display the grayscale image\n",
    "cv2.imshow('Grayscale Image', image)\n",
    "cv2.waitKey(0)\n",
    "cv2.destroyAllWindows()\n"
   ]
  },
  {
   "cell_type": "code",
   "execution_count": 12,
   "metadata": {},
   "outputs": [],
   "source": [
    "import cv2\n",
    "\n",
    "# Load the image\n",
    "image = cv2.imread('images/img1.jpeg')\n",
    "\n",
    "# Define the text and font properties\n",
    "text = 'Hello, OpenCV!'\n",
    "font = cv2.FONT_HERSHEY_SIMPLEX\n",
    "font_scale = 1.5\n",
    "color = (255, 25, 255)  # White color (BGR format)\n",
    "thickness = 2\n",
    "\n",
    "# Add text to the image\n",
    "cv2.putText(image, text, (50, 50), font, font_scale, color, thickness)\n",
    "\n",
    "# Display the image with the text\n",
    "cv2.imshow('Image with Text', image)\n",
    "\n",
    "# Wait for a key press and close the window\n",
    "cv2.waitKey(0)\n",
    "cv2.destroyAllWindows()\n"
   ]
  },
  {
   "cell_type": "code",
   "execution_count": null,
   "metadata": {},
   "outputs": [],
   "source": []
  }
 ],
 "metadata": {
  "kernelspec": {
   "display_name": "Python 3",
   "language": "python",
   "name": "python3"
  },
  "language_info": {
   "codemirror_mode": {
    "name": "ipython",
    "version": 3
   },
   "file_extension": ".py",
   "mimetype": "text/x-python",
   "name": "python",
   "nbconvert_exporter": "python",
   "pygments_lexer": "ipython3",
   "version": "3.9.1"
  },
  "orig_nbformat": 4
 },
 "nbformat": 4,
 "nbformat_minor": 2
}
